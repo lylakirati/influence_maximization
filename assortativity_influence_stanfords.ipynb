{
 "cells": [
  {
   "cell_type": "code",
   "execution_count": 92,
   "id": "ac9eff47-e265-4ff0-b3c2-0deede2681c6",
   "metadata": {
    "tags": []
   },
   "outputs": [],
   "source": [
    "from random import choices\n",
    "\n",
    "import networkx as nx\n",
    "import numpy as np\n",
    "import pandas as pd\n",
    "\n",
    "import matplotlib.pyplot as plt\n",
    "import seaborn as sns"
   ]
  },
  {
   "cell_type": "markdown",
   "id": "01056060",
   "metadata": {},
   "source": [
    "# Comparing Spread Across Different Datasets with Different Assortivities"
   ]
  },
  {
   "attachments": {},
   "cell_type": "markdown",
   "id": "2f8f90fb",
   "metadata": {},
   "source": [
    "## NetHept"
   ]
  },
  {
   "cell_type": "code",
   "execution_count": 159,
   "id": "cfdfa184",
   "metadata": {},
   "outputs": [
    {
     "name": "stdout",
     "output_type": "stream",
     "text": [
      "|V|: 15233, |E|: 58891\n"
     ]
    },
    {
     "data": {
      "text/plain": [
       "(15233, 32235)"
      ]
     },
     "execution_count": 159,
     "metadata": {},
     "output_type": "execute_result"
    }
   ],
   "source": [
    "file = open('weic-graphdata/hep.txt', 'r')\n",
    "first_line = file.readline()\n",
    "meta = first_line.split()\n",
    "num_nodes = int(meta[0])\n",
    "num_edges = int(meta[1])\n",
    "print(f\"|V|: {num_nodes}, |E|: {num_edges}\")\n",
    "\n",
    "\n",
    "edges = [line.strip().split() for line in file.readlines()]\n",
    "edges = [(int(e[0]), int(e[1])) for e in edges]\n",
    "\n",
    "graph = nx.DiGraph()\n",
    "graph.add_edges_from(edges)\n",
    "graph.number_of_nodes(), graph.number_of_edges() # 32K edges match the paper\n",
    "# duplicated edges"
   ]
  },
  {
   "cell_type": "code",
   "execution_count": 160,
   "id": "a62228d0",
   "metadata": {},
   "outputs": [
    {
     "name": "stdout",
     "output_type": "stream",
     "text": [
      "average clustering coefficient: 0.26205258708522\n"
     ]
    }
   ],
   "source": [
    "print('average clustering coefficient:', np.mean(list(nx.clustering(graph).values())))"
   ]
  },
  {
   "cell_type": "code",
   "execution_count": 161,
   "id": "64412e36",
   "metadata": {},
   "outputs": [
    {
     "name": "stdout",
     "output_type": "stream",
     "text": [
      "dimaeter: 31\n"
     ]
    }
   ],
   "source": [
    "print('dimaeter:', max([max(j.values()) for (i,j) in nx.shortest_path_length(graph)]))"
   ]
  },
  {
   "cell_type": "code",
   "execution_count": 162,
   "id": "2bab4abf-a021-40c0-8736-2f3505f1de29",
   "metadata": {},
   "outputs": [
    {
     "name": "stdout",
     "output_type": "stream",
     "text": [
      "Running for the NetHept graph with deg assort 0.3161257813793155\n",
      "\n",
      "\tvisibility: 0.01, avg. spread as a pct. of |V|: 0.3492%\n",
      "\tvisibility: 0.05, avg. spread as a pct. of |V|: 0.6499%\n",
      "\tvisibility: 0.11, avg. spread as a pct. of |V|: 0.6118%\n"
     ]
    }
   ],
   "source": [
    "# run on original graph\n",
    "results_spreads_original = [] \n",
    "results_deg_assorts_original = []\n",
    "results_visibility_original = []\n",
    "\n",
    "nodes = list(graph.nodes)\n",
    "deg_assort = nx.degree_assortativity_coefficient(graph, x = 'out', y = 'out')\n",
    "print(f\"Running for the NetHept graph with deg assort {deg_assort}\\n\")\n",
    "for target_visibility in [0.01, 0.05, 0.11]:\n",
    "    spreads = []\n",
    "    for t in range(5):\n",
    "        fully_observ_O, boundary_nodes = construct_observable(graph, target_visibility)\n",
    "        observable_graph = construct_observable_graph(graph, fully_observ_O, boundary_nodes)\n",
    "        seeds = seed_weighted_degree(observable_graph, weight = 3, num_seed = 5)\n",
    "        activated_nodes = simulate_weighted_IC(graph, seeds)\n",
    "        spreads.append(len(activated_nodes))\n",
    "    avg_spread = np.mean(spreads)\n",
    "    avg_spread_percent_of_graph = avg_spread/graph.number_of_nodes()\n",
    "    print(f\"\\tvisibility: {target_visibility}, avg. spread as a pct. of |V|: {100*avg_spread_percent_of_graph:.4f}%\")\n",
    "    results_spreads_original.append(avg_spread)\n",
    "    results_deg_assorts_original.append(deg_assort)\n",
    "    results_visibility_original.append(target_visibility)"
   ]
  },
  {
   "cell_type": "markdown",
   "id": "a417f456",
   "metadata": {},
   "source": [
    "----"
   ]
  },
  {
   "cell_type": "markdown",
   "id": "79f1577b",
   "metadata": {},
   "source": [
    "## Gnutella Peer to Peer Network\n",
    "\n",
    "\n",
    "A sequence of snapshots of the Gnutella peer-to-peer file sharing network from August 2002. There are total of 9 snapshots of Gnutella network collected in August 2002. Nodes represent hosts in the Gnutella network topology and edges represent connections between the Gnutella hosts.\n",
    "\n",
    "```\n",
    "Nodes\t10876\n",
    "Edges\t39994\n",
    "Nodes in largest WCC\t10876 (1.000)\n",
    "Edges in largest WCC\t39994 (1.000)\n",
    "Nodes in largest SCC\t4317 (0.397)\n",
    "Edges in largest SCC\t18742 (0.469)\n",
    "Average clustering coefficient\t0.0062\n",
    "Number of triangles\t934\n",
    "Fraction of closed triangles\t0.001807\n",
    "Diameter (longest shortest path)\t9\n",
    "90-percentile effective diameter\t5.4\n",
    "```"
   ]
  },
  {
   "cell_type": "code",
   "execution_count": 163,
   "id": "c9207e9a",
   "metadata": {},
   "outputs": [
    {
     "data": {
      "text/plain": [
       "(10876, 39994)"
      ]
     },
     "execution_count": 163,
     "metadata": {},
     "output_type": "execute_result"
    }
   ],
   "source": [
    "file = open('additional_datasets/p2p-Gnutella04.txt', 'r')\n",
    "edges = [line.strip().split() for line in file.readlines()[4:]]\n",
    "edges = [(int(e[0]), int(e[1])) for e in edges]\n",
    "graph = nx.DiGraph()\n",
    "graph.add_edges_from(edges)\n",
    "graph.number_of_nodes(), graph.number_of_edges()"
   ]
  },
  {
   "cell_type": "code",
   "execution_count": 164,
   "id": "cacbda59",
   "metadata": {},
   "outputs": [
    {
     "name": "stdout",
     "output_type": "stream",
     "text": [
      "Running for the Gnutella graph with deg assort -0.0036630443245183283\n",
      "\n",
      "\tvisibility: 0.01, avg. spread as a pct. of |V|: 0.4064%\n",
      "\tvisibility: 0.05, avg. spread as a pct. of |V|: 7.6940%\n",
      "\tvisibility: 0.11, avg. spread as a pct. of |V|: 10.1250%\n"
     ]
    }
   ],
   "source": [
    "# run on original graph\n",
    "results_spreads_original = [] \n",
    "results_deg_assorts_original = []\n",
    "results_visibility_original = []\n",
    "\n",
    "nodes = list(graph.nodes)\n",
    "deg_assort = nx.degree_assortativity_coefficient(graph, x = 'out', y = 'out')\n",
    "print(f\"Running for the Gnutella graph with deg assort {deg_assort}\\n\")\n",
    "for target_visibility in [0.01, 0.05, 0.11]:\n",
    "    spreads = []\n",
    "    for t in range(5):\n",
    "        fully_observ_O, boundary_nodes = construct_observable(graph, target_visibility)\n",
    "        observable_graph = construct_observable_graph(graph, fully_observ_O, boundary_nodes)\n",
    "        seeds = seed_weighted_degree(observable_graph, weight = 3, num_seed = 5)\n",
    "        activated_nodes = simulate_weighted_IC(graph, seeds)\n",
    "        spreads.append(len(activated_nodes))\n",
    "    avg_spread = np.mean(spreads)\n",
    "    avg_spread_percent_of_graph = avg_spread/graph.number_of_nodes()\n",
    "    print(f\"\\tvisibility: {target_visibility}, avg. spread as a pct. of |V|: {100*avg_spread_percent_of_graph:.4f}%\")\n",
    "    results_spreads_original.append(avg_spread)\n",
    "    results_deg_assorts_original.append(deg_assort)\n",
    "    results_visibility_original.append(target_visibility)"
   ]
  },
  {
   "cell_type": "markdown",
   "id": "31d182ca",
   "metadata": {},
   "source": [
    "----"
   ]
  },
  {
   "cell_type": "markdown",
   "id": "827c75e8",
   "metadata": {},
   "source": [
    "## Stanford web graph\n",
    "\n",
    "\n",
    "Nodes represent pages from Stanford University (stanford.edu) and directed edges represent hyperlinks between them. The data was collected in 2002.\n",
    "\n",
    "```\n",
    "Nodes\t281903\n",
    "Edges\t2312497\n",
    "Nodes in largest WCC\t255265 (0.906)\n",
    "Edges in largest WCC\t2234572 (0.966)\n",
    "Nodes in largest SCC\t150532 (0.534)\n",
    "Edges in largest SCC\t1576314 (0.682)\n",
    "Average clustering coefficient\t0.5976\n",
    "Number of triangles\t11329473\n",
    "Fraction of closed triangles\t0.002889\n",
    "Diameter (longest shortest path)\t674\n",
    "90-percentile effective diameter\t9.7\n",
    "```"
   ]
  },
  {
   "cell_type": "code",
   "execution_count": 165,
   "id": "336b93b2",
   "metadata": {},
   "outputs": [
    {
     "data": {
      "text/plain": [
       "(281903, 2312497)"
      ]
     },
     "execution_count": 165,
     "metadata": {},
     "output_type": "execute_result"
    }
   ],
   "source": [
    "file = open('additional_datasets/web-Stanford.txt', 'r')\n",
    "edges = [line.strip().split() for line in file.readlines()[4:]]\n",
    "edges = [(int(e[0]), int(e[1])) for e in edges]\n",
    "graph = nx.DiGraph()\n",
    "graph.add_edges_from(edges)\n",
    "graph.number_of_nodes(), graph.number_of_edges()"
   ]
  },
  {
   "cell_type": "code",
   "execution_count": 166,
   "id": "529a1016",
   "metadata": {},
   "outputs": [
    {
     "name": "stdout",
     "output_type": "stream",
     "text": [
      "Running for the Stanford Web graph with deg assort 0.04575903921600233\n",
      "\n",
      "\tvisibility: 0.01, avg. spread as a pct. of |V|: 0.1188%\n",
      "\tvisibility: 0.05, avg. spread as a pct. of |V|: 0.1554%\n",
      "\tvisibility: 0.11, avg. spread as a pct. of |V|: 0.2595%\n"
     ]
    }
   ],
   "source": [
    "# run on original graph\n",
    "results_spreads_original = [] \n",
    "results_deg_assorts_original = []\n",
    "results_visibility_original = []\n",
    "\n",
    "nodes = list(graph.nodes)\n",
    "deg_assort = nx.degree_assortativity_coefficient(graph, x = 'out', y = 'out')\n",
    "print(f\"Running for the Stanford Web graph with deg assort {deg_assort}\\n\")\n",
    "for target_visibility in [0.01, 0.05, 0.11]:\n",
    "    spreads = []\n",
    "    for t in range(5):\n",
    "        fully_observ_O, boundary_nodes = construct_observable(graph, target_visibility)\n",
    "        observable_graph = construct_observable_graph(graph, fully_observ_O, boundary_nodes)\n",
    "        seeds = seed_weighted_degree(observable_graph, weight = 3, num_seed = 5)\n",
    "        activated_nodes = simulate_weighted_IC(graph, seeds)\n",
    "        spreads.append(len(activated_nodes))\n",
    "    avg_spread = np.mean(spreads)\n",
    "    avg_spread_percent_of_graph = avg_spread/graph.number_of_nodes()\n",
    "    print(f\"\\tvisibility: {target_visibility}, avg. spread as a pct. of |V|: {100*avg_spread_percent_of_graph:.4f}%\")\n",
    "    results_spreads_original.append(avg_spread)\n",
    "    results_deg_assorts_original.append(deg_assort)\n",
    "    results_visibility_original.append(target_visibility)"
   ]
  },
  {
   "cell_type": "markdown",
   "id": "7b5c3e74",
   "metadata": {},
   "source": [
    "------"
   ]
  },
  {
   "cell_type": "markdown",
   "id": "4de7b7b0",
   "metadata": {},
   "source": [
    "## Amazon product co-purchasing network, March 02 2003\n",
    "\n",
    "\n",
    "Network was collected by crawling Amazon website. It is based on Customers Who Bought This Item Also Bought feature of the Amazon website. If a product i is frequently co-purchased with product j, the graph contains a directed edge from i to j.\n",
    "\n",
    "The data was collected in March 02 2003.\n",
    "\n",
    "```\n",
    "Nodes\t262111\n",
    "Edges\t1234877\n",
    "Nodes in largest WCC\t262111 (1.000)\n",
    "Edges in largest WCC\t1234877 (1.000)\n",
    "Nodes in largest SCC\t241761 (0.922)\n",
    "Edges in largest SCC\t1131217 (0.916)\n",
    "Average clustering coefficient\t0.4198\n",
    "Number of triangles\t717719\n",
    "Fraction of closed triangles\t0.09339\n",
    "Diameter (longest shortest path)\t32\n",
    "90-percentile effective diameter\t11\n",
    "```"
   ]
  },
  {
   "cell_type": "code",
   "execution_count": 167,
   "id": "ddbe1394",
   "metadata": {},
   "outputs": [
    {
     "data": {
      "text/plain": [
       "(262111, 1234877)"
      ]
     },
     "execution_count": 167,
     "metadata": {},
     "output_type": "execute_result"
    }
   ],
   "source": [
    "file = open('additional_datasets/amazon0302.txt', 'r')\n",
    "edges = [line.strip().split() for line in file.readlines()[4:]]\n",
    "edges = [(int(e[0]), int(e[1])) for e in edges]\n",
    "graph = nx.DiGraph()\n",
    "graph.add_edges_from(edges)\n",
    "graph.number_of_nodes(), graph.number_of_edges()"
   ]
  },
  {
   "cell_type": "code",
   "execution_count": 168,
   "id": "d87bfd16",
   "metadata": {},
   "outputs": [
    {
     "name": "stdout",
     "output_type": "stream",
     "text": [
      "Running for the Amazon graph with deg assort 0.10270867847558518\n",
      "\n",
      "\tvisibility: 0.01, avg. spread as a pct. of |V|: 0.0041%\n",
      "\tvisibility: 0.05, avg. spread as a pct. of |V|: 0.0033%\n",
      "\tvisibility: 0.11, avg. spread as a pct. of |V|: 0.0038%\n"
     ]
    }
   ],
   "source": [
    "# run on original graph\n",
    "results_spreads_original = [] \n",
    "results_deg_assorts_original = []\n",
    "results_visibility_original = []\n",
    "\n",
    "nodes = list(graph.nodes)\n",
    "deg_assort = nx.degree_assortativity_coefficient(graph, x = 'out', y = 'out')\n",
    "print(f\"Running for the Amazon graph with deg assort {deg_assort}\\n\")\n",
    "for target_visibility in [0.01, 0.05, 0.11]:\n",
    "    spreads = []\n",
    "    for t in range(5):\n",
    "        fully_observ_O, boundary_nodes = construct_observable(graph, target_visibility)\n",
    "        observable_graph = construct_observable_graph(graph, fully_observ_O, boundary_nodes)\n",
    "        seeds = seed_weighted_degree(observable_graph, weight = 3, num_seed = 5)\n",
    "        activated_nodes = simulate_weighted_IC(graph, seeds)\n",
    "        spreads.append(len(activated_nodes))\n",
    "    avg_spread = np.mean(spreads)\n",
    "    avg_spread_percent_of_graph = avg_spread/graph.number_of_nodes()\n",
    "    print(f\"\\tvisibility: {target_visibility}, avg. spread as a pct. of |V|: {100*avg_spread_percent_of_graph:.4f}%\")\n",
    "    results_spreads_original.append(avg_spread)\n",
    "    results_deg_assorts_original.append(deg_assort)\n",
    "    results_visibility_original.append(target_visibility)"
   ]
  },
  {
   "cell_type": "markdown",
   "id": "a984d89d",
   "metadata": {},
   "source": [
    "## Wikipedia vote network\n",
    "\n",
    "\n",
    "Wikipedia is a free encyclopedia written collaboratively by volunteers around the world. A small part of Wikipedia contributors are administrators, who are users with access to additional technical features that aid in maintenance. In order for a user to become an administrator a Request for adminship (RfA) is issued and the Wikipedia community via a public discussion or a vote decides who to promote to adminship. Using the latest complete dump of Wikipedia page edit history (from January 3 2008) we extracted all administrator elections and vote history data. This gave us 2,794 elections with 103,663 total votes and 7,066 users participating in the elections (either casting a vote or being voted on). Out of these 1,235 elections resulted in a successful promotion, while 1,559 elections did not result in the promotion. About half of the votes in the dataset are by existing admins, while the other half comes from ordinary Wikipedia users.\n",
    "\n",
    "The network contains all the Wikipedia voting data from the inception of Wikipedia till January 2008. Nodes in the network represent wikipedia users and a directed edge from node i to node j represents that user i voted on user j.\n",
    "\n",
    "```\n",
    "Nodes\t7115\n",
    "Edges\t103689\n",
    "Nodes in largest WCC\t7066 (0.993)\n",
    "Edges in largest WCC\t103663 (1.000)\n",
    "Nodes in largest SCC\t1300 (0.183)\n",
    "Edges in largest SCC\t39456 (0.381)\n",
    "Average clustering coefficient\t0.1409\n",
    "Number of triangles\t608389\n",
    "Fraction of closed triangles\t0.04564\n",
    "Diameter (longest shortest path)\t7\n",
    "90-percentile effective diameter\t3.8\n",
    "```"
   ]
  },
  {
   "cell_type": "code",
   "execution_count": 173,
   "id": "1814c255",
   "metadata": {},
   "outputs": [
    {
     "data": {
      "text/plain": [
       "(7115, 103689)"
      ]
     },
     "execution_count": 173,
     "metadata": {},
     "output_type": "execute_result"
    }
   ],
   "source": [
    "file = open('additional_datasets/wiki-Vote.txt', 'r')\n",
    "edges = [line.strip().split() for line in file.readlines()[4:]]\n",
    "edges = [(int(e[0]), int(e[1])) for e in edges]\n",
    "graph = nx.DiGraph()\n",
    "graph.add_edges_from(edges)\n",
    "graph.number_of_nodes(), graph.number_of_edges()"
   ]
  },
  {
   "cell_type": "code",
   "execution_count": 174,
   "id": "b10cf59e",
   "metadata": {},
   "outputs": [
    {
     "name": "stdout",
     "output_type": "stream",
     "text": [
      "Running for the Wikipedia graph with deg assort -0.018909153225472288\n",
      "\n",
      "\tvisibility: 0.01, avg. spread as a pct. of |V|: 2.1785%\n",
      "\tvisibility: 0.05, avg. spread as a pct. of |V|: 1.9508%\n",
      "\tvisibility: 0.11, avg. spread as a pct. of |V|: 1.8665%\n"
     ]
    }
   ],
   "source": [
    "# run on original graph\n",
    "results_spreads_original = [] \n",
    "results_deg_assorts_original = []\n",
    "results_visibility_original = []\n",
    "\n",
    "nodes = list(graph.nodes)\n",
    "deg_assort = nx.degree_assortativity_coefficient(graph, x = 'out', y = 'out')\n",
    "print(f\"Running for the Wikipedia graph with deg assort {deg_assort}\\n\")\n",
    "for target_visibility in [0.01, 0.05, 0.11]:\n",
    "    spreads = []\n",
    "    for t in range(5):\n",
    "        fully_observ_O, boundary_nodes = construct_observable(graph, target_visibility)\n",
    "        observable_graph = construct_observable_graph(graph, fully_observ_O, boundary_nodes)\n",
    "        seeds = seed_weighted_degree(observable_graph, weight = 3, num_seed = 5)\n",
    "        activated_nodes = simulate_weighted_IC(graph, seeds)\n",
    "        spreads.append(len(activated_nodes))\n",
    "    avg_spread = np.mean(spreads)\n",
    "    avg_spread_percent_of_graph = avg_spread/graph.number_of_nodes()\n",
    "    print(f\"\\tvisibility: {target_visibility}, avg. spread as a pct. of |V|: {100*avg_spread_percent_of_graph:.4f}%\")\n",
    "    results_spreads_original.append(avg_spread)\n",
    "    results_deg_assorts_original.append(deg_assort)\n",
    "    results_visibility_original.append(target_visibility)"
   ]
  },
  {
   "cell_type": "markdown",
   "id": "3239a485",
   "metadata": {},
   "source": [
    "## email-Eu-core network\n",
    "\n",
    "\n",
    "The network was generated using email data from a large European research institution. We have anonymized information about all incoming and outgoing email between members of the research institution. There is an edge (u, v) in the network if person u sent person v at least one email. The e-mails only represent communication between institution members (the core), and the dataset does not contain incoming messages from or outgoing messages to the rest of the world.\n",
    "\n",
    "The dataset also contains \"ground-truth\" community memberships of the nodes. Each individual belongs to exactly one of 42 departments at the research institute.\n",
    "\n",
    "This network represents the \"core\" of the email-EuAll network, which also contains links between members of the institution and people outside of the institution (although the node IDs are not the same).\n",
    "\n",
    "```\n",
    "Nodes\t1005\n",
    "Edges\t25571\n",
    "Nodes in largest WCC\t986 (0.981)\n",
    "Edges in largest WCC\t25552 (0.999)\n",
    "Nodes in largest SCC\t803 (0.799)\n",
    "Edges in largest SCC\t24729 (0.967)\n",
    "Average clustering coefficient\t0.3994\n",
    "Number of triangles\t105461\n",
    "Fraction of closed triangles\t0.1085\n",
    "Diameter (longest shortest path)\t7\n",
    "90-percentile effective diameter\t2.9\n",
    "```"
   ]
  },
  {
   "cell_type": "code",
   "execution_count": 175,
   "id": "612799d8",
   "metadata": {},
   "outputs": [
    {
     "data": {
      "text/plain": [
       "(1005, 25571)"
      ]
     },
     "execution_count": 175,
     "metadata": {},
     "output_type": "execute_result"
    }
   ],
   "source": [
    "file = open('additional_datasets/email-Eu-core.txt', 'r')\n",
    "edges = [line.strip().split() for line in file.readlines()]\n",
    "edges = [(int(e[0]), int(e[1])) for e in edges]\n",
    "graph = nx.DiGraph()\n",
    "graph.add_edges_from(edges)\n",
    "graph.number_of_nodes(), graph.number_of_edges()"
   ]
  },
  {
   "cell_type": "code",
   "execution_count": 176,
   "id": "bc7709f0",
   "metadata": {},
   "outputs": [
    {
     "name": "stdout",
     "output_type": "stream",
     "text": [
      "Running for the email EU graph with deg assort -0.0018398611298732078\n",
      "\n",
      "\tvisibility: 0.01, avg. spread as a pct. of |V|: 19.2637%\n",
      "\tvisibility: 0.05, avg. spread as a pct. of |V|: 16.5572%\n",
      "\tvisibility: 0.11, avg. spread as a pct. of |V|: 19.3035%\n"
     ]
    }
   ],
   "source": [
    "# run on original graph\n",
    "results_spreads_original = [] \n",
    "results_deg_assorts_original = []\n",
    "results_visibility_original = []\n",
    "\n",
    "nodes = list(graph.nodes)\n",
    "deg_assort = nx.degree_assortativity_coefficient(graph, x = 'out', y = 'out')\n",
    "print(f\"Running for the email EU graph with deg assort {deg_assort}\\n\")\n",
    "for target_visibility in [0.01, 0.05, 0.11]:\n",
    "    spreads = []\n",
    "    for t in range(5):\n",
    "        fully_observ_O, boundary_nodes = construct_observable(graph, target_visibility)\n",
    "        observable_graph = construct_observable_graph(graph, fully_observ_O, boundary_nodes)\n",
    "        seeds = seed_weighted_degree(observable_graph, weight = 3, num_seed = 5)\n",
    "        activated_nodes = simulate_weighted_IC(graph, seeds)\n",
    "        spreads.append(len(activated_nodes))\n",
    "    avg_spread = np.mean(spreads)\n",
    "    \n",
    "    avg_spread_percent_of_graph = avg_spread/graph.number_of_nodes()\n",
    "    print(f\"\\tvisibility: {target_visibility}, avg. spread as a pct. of |V|: {100*avg_spread_percent_of_graph:.4f}%\")\n",
    "    results_spreads_original.append(avg_spread)\n",
    "    results_deg_assorts_original.append(deg_assort)\n",
    "    results_visibility_original.append(target_visibility)"
   ]
  },
  {
   "cell_type": "markdown",
   "id": "337506c9",
   "metadata": {},
   "source": [
    "-------"
   ]
  },
  {
   "cell_type": "markdown",
   "id": "2df7b171",
   "metadata": {},
   "source": [
    "## Summarizing Results"
   ]
  },
  {
   "cell_type": "markdown",
   "id": "569e022c",
   "metadata": {},
   "source": [
    "**NetHept** graph with deg assort $0.3161$\n",
    "\n",
    "```\n",
    "\tvisibility: 0.01, avg. spread as a pct. of |V|: 0.32%\n",
    "\tvisibility: 0.05, avg. spread as a pct. of |V|: 0.59%\n",
    "\tvisibility: 0.11, avg. spread as a pct. of |V|: 0.80%\n",
    "\n",
    "```    \n",
    "    \n",
    "**Gnutella** graph with deg assort $-0.0037$\n",
    "```\n",
    "\tvisibility: 0.01, avg. spread as a pct. of |V|: 4.74%\n",
    "\tvisibility: 0.05, avg. spread as a pct. of |V|: 5.28%\n",
    "\tvisibility: 0.11, avg. spread as a pct. of |V|: 8.81%\n",
    "\n",
    " ```   \n",
    "        \n",
    "    \n",
    "**Stanford graph** with deg assort $0.04576$\n",
    "```\n",
    "\tvisibility: 0.01, avg. spread as a pct. of |V|: 0.16%\n",
    "\tvisibility: 0.05, avg. spread as a pct. of |V|: 0.13%\n",
    "\tvisibility: 0.11, avg. spread as a pct. of |V|: 0.18%\n",
    "  ```\n",
    "\n",
    "**Amazon graph** with deg assort $0.1027$\n",
    "```\n",
    "\tvisibility: 0.01, avg. spread as a pct. of |V|: 0.0027%\n",
    "\tvisibility: 0.05, avg. spread as a pct. of |V|: 0.0033%\n",
    "\tvisibility: 0.11, avg. spread as a pct. of |V|: 0.0034%\n",
    "\n",
    "    \n",
    "```\n",
    "    \n",
    "**Wikipedia** graph with deg assort $-0.0189$\n",
    "\n",
    "```\n",
    "\tvisibility: 0.01, avg. spread as a pct. of |V|: 1.8552%\n",
    "\tvisibility: 0.05, avg. spread as a pct. of |V|: 1.7484%\n",
    "\tvisibility: 0.11, avg. spread as a pct. of |V|: 1.8327%\n",
    "    \n",
    "```\n",
    "\n",
    "**Email EU** graph with deg assort $-0.0018$\n",
    "```\n",
    "\tvisibility: 0.01, avg. spread as a pct. of |V|: 19.4428%\n",
    "\tvisibility: 0.05, avg. spread as a pct. of |V|: 18.3284%\n",
    "    visibility: 0.11, avg. spread as a pct. of |V|: 20.3582%\n",
    "```"
   ]
  },
  {
   "cell_type": "markdown",
   "id": "912f2345",
   "metadata": {},
   "source": [
    "## More Detailed General Resilts - From An Earlier Run That Took a Long Time"
   ]
  },
  {
   "cell_type": "markdown",
   "id": "21e428e3",
   "metadata": {},
   "source": [
    "Running for the NetHept graph with deg assort 0.3161257813793155\n",
    "```\n",
    "\tvisibility: 0.01, avg. spread as a pct. of |V|: 0.32%\n",
    "\tvisibility: 0.03, avg. spread as a pct. of |V|: 0.54%\n",
    "\tvisibility: 0.05, avg. spread as a pct. of |V|: 0.59%\n",
    "\tvisibility: 0.07, avg. spread as a pct. of |V|: 0.71%\n",
    "\tvisibility: 0.09, avg. spread as a pct. of |V|: 0.72%\n",
    "\tvisibility: 0.11, avg. spread as a pct. of |V|: 0.80%\n",
    "\tvisibility: 0.13, avg. spread as a pct. of |V|: 0.80%\n",
    "\tvisibility: 0.15, avg. spread as a pct. of |V|: 0.72%\n",
    "\tvisibility: 0.17, avg. spread as a pct. of |V|: 0.56%\n",
    "```    \n",
    "    \n",
    "Running for the Gnutella graph with deg assort -0.0036630443245183283\n",
    "```\n",
    "\tvisibility: 0.01, avg. spread as a pct. of |V|: 4.74%\n",
    "\tvisibility: 0.03, avg. spread as a pct. of |V|: 7.89%\n",
    "\tvisibility: 0.05, avg. spread as a pct. of |V|: 5.28%\n",
    "\tvisibility: 0.07, avg. spread as a pct. of |V|: 12.73%\n",
    "\tvisibility: 0.09, avg. spread as a pct. of |V|: 6.76%\n",
    "\tvisibility: 0.11, avg. spread as a pct. of |V|: 8.81%\n",
    "\tvisibility: 0.13, avg. spread as a pct. of |V|: 16.55%\n",
    "\tvisibility: 0.15, avg. spread as a pct. of |V|: 11.20%\n",
    "\tvisibility: 0.17, avg. spread as a pct. of |V|: 15.18%\n",
    " ```   \n",
    "        \n",
    "    \n",
    "Running for the Stanford graph with deg assort 0.04575903921600233\n",
    "```\n",
    "\tvisibility: 0.01, avg. spread as a pct. of |V|: 0.16%\n",
    "\tvisibility: 0.03, avg. spread as a pct. of |V|: 0.23%\n",
    "\tvisibility: 0.05, avg. spread as a pct. of |V|: 0.13%\n",
    "\tvisibility: 0.07, avg. spread as a pct. of |V|: 0.20%\n",
    "\tvisibility: 0.09, avg. spread as a pct. of |V|: 0.17%\n",
    "\tvisibility: 0.11, avg. spread as a pct. of |V|: 0.18%\n",
    "\tvisibility: 0.13, avg. spread as a pct. of |V|: 0.16%\n",
    "\tvisibility: 0.15, avg. spread as a pct. of |V|: 0.18%\n",
    "\tvisibility: 0.17, avg. spread as a pct. of |V|: 0.20%\n",
    "  \n",
    "  ```\n",
    "  \n",
    "\n",
    "Running for the Amazon graph with deg assort 0.10270867847558518\n",
    "```\n",
    "\tvisibility: 0.01, avg. spread as a pct. of |V|: 0.0027%\n",
    "\tvisibility: 0.03, avg. spread as a pct. of |V|: 0.0053%\n",
    "\tvisibility: 0.05, avg. spread as a pct. of |V|: 0.0033%\n",
    "\tvisibility: 0.07, avg. spread as a pct. of |V|: 0.0040%\n",
    "\tvisibility: 0.09, avg. spread as a pct. of |V|: 0.0047%\n",
    "\tvisibility: 0.11, avg. spread as a pct. of |V|: 0.0034%\n",
    "\tvisibility: 0.13, avg. spread as a pct. of |V|: 0.0058%\n",
    "\tvisibility: 0.15, avg. spread as a pct. of |V|: 0.0035%\n",
    "\tvisibility: 0.17, avg. spread as a pct. of |V|: 0.0047%\n",
    "    \n",
    "```\n",
    "    \n",
    "Running for the Wikipedia graph with deg assort -0.018909153225472288\n",
    "\n",
    "```\n",
    "\tvisibility: 0.01, avg. spread as a pct. of |V|: 1.8552%\n",
    "\tvisibility: 0.03, avg. spread as a pct. of |V|: 1.6894%\n",
    "\tvisibility: 0.05, avg. spread as a pct. of |V|: 1.7484%\n",
    "\tvisibility: 0.07, avg. spread as a pct. of |V|: 1.7344%\n",
    "\tvisibility: 0.09, avg. spread as a pct. of |V|: 1.5348%\n",
    "\tvisibility: 0.11, avg. spread as a pct. of |V|: 1.8327%\n",
    "\tvisibility: 0.13, avg. spread as a pct. of |V|: 1.6416%\n",
    "\tvisibility: 0.15, avg. spread as a pct. of |V|: 1.9789%\n",
    "    \n",
    "```\n",
    "\n",
    "\n",
    "Running for the email EU graph with deg assort -0.0018398611298732078\n",
    "```\n",
    "\tvisibility: 0.01, avg. spread as a pct. of |V|: 19.4428%\n",
    "\tvisibility: 0.03, avg. spread as a pct. of |V|: 22.9652%\n",
    "\tvisibility: 0.05, avg. spread as a pct. of |V|: 18.3284%\n",
    "\tvisibility: 0.07, avg. spread as a pct. of |V|: 18.0896%\n",
    "\tvisibility: 0.09, avg. spread as a pct. of |V|: 18.7463%\n",
    "\tvisibility: 0.11, avg. spread as a pct. of |V|: 20.3582%\n",
    "\tvisibility: 0.13, avg. spread as a pct. of |V|: 15.0050%\n",
    "\tvisibility: 0.15, avg. spread as a pct. of |V|: 19.6617%\n",
    "```"
   ]
  }
 ],
 "metadata": {
  "kernelspec": {
   "display_name": "Python 3 (ipykernel)",
   "language": "python",
   "name": "python3"
  },
  "language_info": {
   "codemirror_mode": {
    "name": "ipython",
    "version": 3
   },
   "file_extension": ".py",
   "mimetype": "text/x-python",
   "name": "python",
   "nbconvert_exporter": "python",
   "pygments_lexer": "ipython3",
   "version": "3.10.8"
  }
 },
 "nbformat": 4,
 "nbformat_minor": 5
}
