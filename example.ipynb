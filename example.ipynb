{
 "cells": [
  {
   "cell_type": "code",
   "execution_count": 1,
   "id": "396af005-fad9-41c3-afa7-12768a7e9863",
   "metadata": {
    "tags": []
   },
   "outputs": [],
   "source": [
    "from random import choices\n",
    "\n",
    "import networkx as nx\n",
    "import numpy as np\n",
    "import pandas as pd\n",
    "\n",
    "import matplotlib.pyplot as plt\n",
    "import seaborn as sns\n",
    "\n",
    "from models.observableSubgraph import create_subgraph, simulate_observable_nodes\n",
    "from models.seeding import Seeding\n",
    "from models.independentCascade import IndependentCascade"
   ]
  },
  {
   "cell_type": "markdown",
   "id": "b9ff67e7-cc46-42db-aad3-61ed4698439f",
   "metadata": {},
   "source": [
    "# Import NetHept Network Data"
   ]
  },
  {
   "cell_type": "code",
   "execution_count": 2,
   "id": "9f88304b-7d5f-4402-8258-664a64f2c6cd",
   "metadata": {
    "tags": []
   },
   "outputs": [
    {
     "name": "stdout",
     "output_type": "stream",
     "text": [
      "|V|: 15233, |E|: 58891\n"
     ]
    }
   ],
   "source": [
    "file = open('data/weic-graphdata/hep.txt', 'r')\n",
    "first_line = file.readline()\n",
    "meta = first_line.split()\n",
    "num_nodes = int(meta[0])\n",
    "num_edges = int(meta[1])\n",
    "print(f\"|V|: {num_nodes}, |E|: {num_edges}\")\n",
    "\n",
    "edges = [line.strip().split() for line in file.readlines()]\n",
    "edges = [(int(e[0]), int(e[1])) for e in edges]"
   ]
  },
  {
   "cell_type": "code",
   "execution_count": 3,
   "id": "049fbdf8-fc1b-46b5-a0a8-877134c9e9d8",
   "metadata": {
    "tags": []
   },
   "outputs": [
    {
     "name": "stdout",
     "output_type": "stream",
     "text": [
      "Number of nodes: 15233\n",
      "Number of edges: 32235\n"
     ]
    }
   ],
   "source": [
    "# create a directed graph object\n",
    "# note: there are duplicated edges. If you want to keep the duplicates, use MultiDiGraph instead\n",
    "graph = nx.DiGraph()\n",
    "graph.add_edges_from(edges)\n",
    "print(f\"Number of nodes: {graph.number_of_nodes()}\\nNumber of edges: {graph.number_of_edges()}\")"
   ]
  },
  {
   "cell_type": "markdown",
   "id": "6943d56e-3403-4c71-b536-433c1314df51",
   "metadata": {},
   "source": [
    "# Simulate Information Spreading in NetHept"
   ]
  },
  {
   "cell_type": "markdown",
   "id": "5d31a1ae-7fe1-4619-b1fc-c008c6a9f94e",
   "metadata": {},
   "source": [
    "## Create an observable subgraph with visibility of 10%"
   ]
  },
  {
   "cell_type": "code",
   "execution_count": 4,
   "id": "f56d5b72-cc4f-44ce-b01d-33feb758e8d6",
   "metadata": {
    "tags": []
   },
   "outputs": [],
   "source": [
    "target_visibility = 0.1\n",
    "fully_observ_O, boundary_nodes = simulate_observable_nodes(graph, target_visibility)\n",
    "observable_nodes = fully_observ_O + boundary_nodes\n",
    "observable_graph = create_subgraph(graph, observable_nodes)"
   ]
  },
  {
   "cell_type": "markdown",
   "id": "2f249e6b-2d03-4fe8-914c-51bac9742556",
   "metadata": {},
   "source": [
    "## Select 5 initial seeds using weigted degree-based heuristic"
   ]
  },
  {
   "cell_type": "code",
   "execution_count": 5,
   "id": "86ddd787-7a30-4d60-95c6-c9a0dc122d29",
   "metadata": {
    "tags": []
   },
   "outputs": [
    {
     "data": {
      "text/plain": [
       "[196, 326, 474, 525, 80]"
      ]
     },
     "execution_count": 5,
     "metadata": {},
     "output_type": "execute_result"
    }
   ],
   "source": [
    "seeding = Seeding(observable_graph, method = 'weighted-degree-based')\n",
    "seeds = seeding(boundary_nodes, weight = 3, num_seed = 5)\n",
    "seeds"
   ]
  },
  {
   "cell_type": "markdown",
   "id": "244239e1-cb49-49ca-9f95-c94e901fee27",
   "metadata": {},
   "source": [
    "# Simulate Weighted Independent Casecade Model"
   ]
  },
  {
   "cell_type": "code",
   "execution_count": 6,
   "id": "d46756e8-773a-4d58-b8ef-81484e76face",
   "metadata": {
    "tags": []
   },
   "outputs": [
    {
     "name": "stdout",
     "output_type": "stream",
     "text": [
      "118\n"
     ]
    }
   ],
   "source": [
    "ic_model = IndependentCascade(graph, seeds)\n",
    "activated = ic_model.simulate()\n",
    "print(ic_model.get_spread())"
   ]
  },
  {
   "cell_type": "markdown",
   "id": "6f793280-80f6-46ab-bb27-ab9c5a993e3c",
   "metadata": {},
   "source": [
    "## Run multiple simulations of the IC model"
   ]
  },
  {
   "cell_type": "code",
   "execution_count": 7,
   "id": "6f659028-fd49-4988-86be-15e1aa0abf47",
   "metadata": {
    "tags": []
   },
   "outputs": [
    {
     "name": "stdout",
     "output_type": "stream",
     "text": [
      "Average spread across 10 runs: 97.6\n"
     ]
    }
   ],
   "source": [
    "avg_spread = ic_model.run_simulations(iters = 10)\n",
    "print(f\"Average spread across 10 runs: {avg_spread}\")"
   ]
  }
 ],
 "metadata": {
  "kernelspec": {
   "display_name": "Python 3 (ipykernel)",
   "language": "python",
   "name": "python3"
  },
  "language_info": {
   "codemirror_mode": {
    "name": "ipython",
    "version": 3
   },
   "file_extension": ".py",
   "mimetype": "text/x-python",
   "name": "python",
   "nbconvert_exporter": "python",
   "pygments_lexer": "ipython3",
   "version": "3.10.9"
  }
 },
 "nbformat": 4,
 "nbformat_minor": 5
}
