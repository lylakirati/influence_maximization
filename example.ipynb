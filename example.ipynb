{
 "cells": [
  {
   "cell_type": "code",
   "execution_count": 1,
   "id": "396af005-fad9-41c3-afa7-12768a7e9863",
   "metadata": {
    "tags": []
   },
   "outputs": [],
   "source": [
    "from random import choices\n",
    "\n",
    "import networkx as nx\n",
    "import numpy as np\n",
    "import pandas as pd\n",
    "\n",
    "import matplotlib.pyplot as plt\n",
    "import seaborn as sns"
   ]
  },
  {
   "cell_type": "code",
   "execution_count": 2,
   "id": "00848a37-da8c-4247-8a92-17ee077dc95b",
   "metadata": {
    "tags": []
   },
   "outputs": [],
   "source": [
    "from models.observableSubgraph import create_subgraph, simulate_observable_nodes"
   ]
  },
  {
   "cell_type": "code",
   "execution_count": 3,
   "id": "0160c7be-d669-48e5-b283-01d61b3a05cc",
   "metadata": {
    "tags": []
   },
   "outputs": [],
   "source": [
    "from models.seeding import Seeding"
   ]
  },
  {
   "cell_type": "code",
   "execution_count": 11,
   "id": "e90c87e2-5f63-46bb-8bc0-234124d20790",
   "metadata": {
    "tags": []
   },
   "outputs": [],
   "source": [
    "from models.independentCascade import IndependentCascade"
   ]
  },
  {
   "cell_type": "code",
   "execution_count": 4,
   "id": "9f88304b-7d5f-4402-8258-664a64f2c6cd",
   "metadata": {
    "tags": []
   },
   "outputs": [
    {
     "name": "stdout",
     "output_type": "stream",
     "text": [
      "|V|: 15233, |E|: 58891\n"
     ]
    }
   ],
   "source": [
    "file = open('data/weic-graphdata/hep.txt', 'r')\n",
    "first_line = file.readline()\n",
    "meta = first_line.split()\n",
    "num_nodes = int(meta[0])\n",
    "num_edges = int(meta[1])\n",
    "print(f\"|V|: {num_nodes}, |E|: {num_edges}\")\n",
    "\n",
    "edges = [line.strip().split() for line in file.readlines()]\n",
    "edges = [(int(e[0]), int(e[1])) for e in edges]"
   ]
  },
  {
   "cell_type": "code",
   "execution_count": 5,
   "id": "049fbdf8-fc1b-46b5-a0a8-877134c9e9d8",
   "metadata": {
    "tags": []
   },
   "outputs": [
    {
     "data": {
      "text/plain": [
       "(15233, 32235)"
      ]
     },
     "execution_count": 5,
     "metadata": {},
     "output_type": "execute_result"
    }
   ],
   "source": [
    "graph = nx.DiGraph()\n",
    "graph.add_edges_from(edges)\n",
    "graph.number_of_nodes(), graph.number_of_edges() # 32K edges match the paper\n",
    "# duplicated edges"
   ]
  },
  {
   "cell_type": "code",
   "execution_count": 6,
   "id": "f56d5b72-cc4f-44ce-b01d-33feb758e8d6",
   "metadata": {
    "tags": []
   },
   "outputs": [],
   "source": [
    "target_visibility = 0.1\n",
    "fully_observ_O, boundary_nodes = simulate_observable_nodes(graph, target_visibility)\n",
    "observable_nodes = fully_observ_O + boundary_nodes\n",
    "observable_graph = create_subgraph(graph, observable_nodes)\n",
    "# seeds = seed_weighted_degree(observable_graph, weight = 3, num_seed = 5)\n",
    "# activated_nodes = simulate_weighted_IC(graph, seeds)\n",
    "# print(f\"spread: {len(activated_nodes)}\")"
   ]
  },
  {
   "cell_type": "code",
   "execution_count": 8,
   "id": "86ddd787-7a30-4d60-95c6-c9a0dc122d29",
   "metadata": {
    "tags": []
   },
   "outputs": [
    {
     "data": {
      "text/plain": [
       "[196, 66, 474, 14, 239]"
      ]
     },
     "execution_count": 8,
     "metadata": {},
     "output_type": "execute_result"
    }
   ],
   "source": [
    "seeding = Seeding(observable_graph, method = 'weighted-degree-based')\n",
    "seeds = seeding(boundary_nodes, weight = 3, num_seed = 5)\n",
    "seeds"
   ]
  },
  {
   "cell_type": "code",
   "execution_count": 8,
   "id": "e7f95cb2-3da3-4731-a691-ec5bd86448e6",
   "metadata": {
    "tags": []
   },
   "outputs": [
    {
     "data": {
      "text/plain": [
       "[885, 13094, 539, 6097, 8879]"
      ]
     },
     "execution_count": 8,
     "metadata": {},
     "output_type": "execute_result"
    }
   ],
   "source": [
    "seeding = Seeding(observable_graph, method = 'random')\n",
    "seeds = seeding(num_seed = 5)\n",
    "seeds"
   ]
  },
  {
   "cell_type": "code",
   "execution_count": 91,
   "id": "8ebdec9f-3d76-41c8-ad08-9d2412be11aa",
   "metadata": {
    "tags": []
   },
   "outputs": [
    {
     "data": {
      "text/plain": [
       "[32, 111, 1643, 462, 1441]"
      ]
     },
     "execution_count": 91,
     "metadata": {},
     "output_type": "execute_result"
    }
   ],
   "source": [
    "seeds = seeding(num_seed = 5, activate_neighbor = True)\n",
    "seeds"
   ]
  },
  {
   "cell_type": "code",
   "execution_count": 250,
   "id": "d46756e8-773a-4d58-b8ef-81484e76face",
   "metadata": {
    "tags": []
   },
   "outputs": [
    {
     "data": {
      "text/plain": [
       "17"
      ]
     },
     "execution_count": 250,
     "metadata": {},
     "output_type": "execute_result"
    }
   ],
   "source": [
    "ic_model = IndependentCascade(graph, seeds, weighted = False)\n",
    "activated = ic_model()\n",
    "len(activated)"
   ]
  },
  {
   "cell_type": "code",
   "execution_count": null,
   "id": "1925ebc5-fac6-41be-b9e1-fcd8f4de12d5",
   "metadata": {},
   "outputs": [],
   "source": []
  }
 ],
 "metadata": {
  "kernelspec": {
   "display_name": "Python 3 (ipykernel)",
   "language": "python",
   "name": "python3"
  },
  "language_info": {
   "codemirror_mode": {
    "name": "ipython",
    "version": 3
   },
   "file_extension": ".py",
   "mimetype": "text/x-python",
   "name": "python",
   "nbconvert_exporter": "python",
   "pygments_lexer": "ipython3",
   "version": "3.10.9"
  }
 },
 "nbformat": 4,
 "nbformat_minor": 5
}
